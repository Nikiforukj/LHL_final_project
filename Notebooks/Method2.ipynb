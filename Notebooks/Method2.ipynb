{
  "nbformat": 4,
  "nbformat_minor": 0,
  "metadata": {
    "colab": {
      "name": "Method2.ipynb",
      "provenance": [],
      "collapsed_sections": [],
      "machine_shape": "hm"
    },
    "kernelspec": {
      "name": "python3",
      "display_name": "Python 3"
    },
    "language_info": {
      "name": "python"
    },
    "accelerator": "GPU"
  },
  "cells": [
    {
      "cell_type": "markdown",
      "source": [
        "### Import required libraries"
      ],
      "metadata": {
        "id": "n0AzO5rjn24f"
      }
    },
    {
      "cell_type": "code",
      "execution_count": 1,
      "metadata": {
        "id": "8Pi8fgKKeMoB"
      },
      "outputs": [],
      "source": [
        "# model\n",
        "import tensorflow as tf\n",
        "import keras\n",
        "from keras import applications\n",
        "from keras.preprocessing.image import ImageDataGenerator\n",
        "from keras import optimizers\n",
        "from keras.models import Sequential, Model \n",
        "from keras.layers import *\n",
        "from keras.callbacks import ModelCheckpoint, LearningRateScheduler, TensorBoard, EarlyStopping\n",
        "\n",
        "# data processing \n",
        "import os\n",
        "import cv2\n",
        "import numpy as np\n",
        "import pandas as pd\n",
        "from sklearn.model_selection import train_test_split\n",
        "\n",
        "# evaluation\n",
        "import keras.metrics as km\n",
        "from sklearn.metrics import classification_report\n",
        "from sklearn.metrics import accuracy_score\n",
        "from sklearn.metrics import precision_score\n",
        "from sklearn.metrics import recall_score\n",
        "from sklearn.metrics import f1_score\n",
        "from sklearn.metrics import cohen_kappa_score\n",
        "from sklearn.metrics import roc_auc_score\n",
        "from sklearn.metrics import confusion_matrix\n",
        "from sklearn.metrics import multilabel_confusion_matrix\n",
        "import matplotlib.pyplot as plt"
      ]
    },
    {
      "cell_type": "markdown",
      "source": [
        "### Set data path and image variables"
      ],
      "metadata": {
        "id": "wVQ_2MpaoFSI"
      }
    },
    {
      "cell_type": "code",
      "source": [
        "# data path\n",
        "data_dir = \"/content/drive/MyDrive/dataset_categorized/Video_Dataset/\"\n",
        "\n",
        "# frame generation parameters\n",
        "img_height , img_width = 64, 64\n",
        "seq_len = 60\n",
        "\n",
        "# labels \n",
        "classes = [\"bad_back_round\", \"bad_back_warp\", \"bad_head\", \"bad_inner_thigh\", \"bad_shallow\", \"bad_toe\", \"good\"]"
      ],
      "metadata": {
        "id": "mkVJQ0jpexjc"
      },
      "execution_count": null,
      "outputs": []
    },
    {
      "cell_type": "markdown",
      "source": [
        "### Create functions for processing videos"
      ],
      "metadata": {
        "id": "mWi760oUoFns"
      }
    },
    {
      "cell_type": "code",
      "source": [
        "#  Creating frames from videos\n",
        " \n",
        "def frames_extraction(video_path):\n",
        "    \"\"\"\n",
        "    Parse video file and create individual frame images\n",
        "\n",
        "    Parameters\n",
        "    ----------\n",
        "    video_path : str\n",
        "        The file location of the video\n",
        "\n",
        "    Returns\n",
        "    -------\n",
        "    frames_list\n",
        "        a list of images parsed from video\n",
        "    \"\"\"\n",
        "    frames_list = []\n",
        "     \n",
        "    vidObj = cv2.VideoCapture(video_path)\n",
        "    # Used as counter variable \n",
        "    count = 1\n",
        " \n",
        "    while count <= seq_len: \n",
        "         \n",
        "        success, image = vidObj.read() \n",
        "        if success:\n",
        "            image = cv2.resize(image, (img_height, img_width))\n",
        "            frames_list.append(image)\n",
        "            count += 1\n",
        "        else:\n",
        "            print(\"Defected frame\")\n",
        "            break\n",
        " \n",
        "            \n",
        "    return frames_list\n",
        " \n",
        "def create_data(input_dir):\n",
        "    \"\"\"\n",
        "    Create vectorized feature and label data from videos\n",
        "\n",
        "    Parameters\n",
        "    ----------\n",
        "    input_dir : str\n",
        "        Directory path to data\n",
        "\n",
        "    Returns\n",
        "    -------\n",
        "    X\n",
        "        Array of image feature data\n",
        "    Y\n",
        "        Array of label data\n",
        "    \"\"\"  \n",
        "    X = []\n",
        "    Y = []\n",
        "     \n",
        "    classes_list = os.listdir(input_dir)\n",
        "     \n",
        "    for c in classes_list:\n",
        "        print(c)\n",
        "        files_list = os.listdir(os.path.join(input_dir, c))\n",
        "        for f in files_list:\n",
        "           frames = frames_extraction(os.path.join(os.path.join(input_dir, c), f))\n",
        "           if len(frames) == seq_len:\n",
        "                X.append(frames)\n",
        "             \n",
        "                y = [0]*len(classes)\n",
        "                y[classes.index(c)] = 1\n",
        "                Y.append(y)\n",
        "     \n",
        "    X = np.asarray(X)\n",
        "    Y = np.asarray(Y)\n",
        "    return X, Y"
      ],
      "metadata": {
        "id": "CKA9b3Zgex-z"
      },
      "execution_count": null,
      "outputs": []
    },
    {
      "cell_type": "code",
      "source": [
        "# checking data path is correctly implemented\n",
        "print(os.listdir(os.path.join(data_dir, 'bad_back_round')))"
      ],
      "metadata": {
        "colab": {
          "base_uri": "https://localhost:8080/"
        },
        "id": "k90KrU0EHc0X",
        "outputId": "1381d651-b113-48bb-ca4c-ca9ce707c653"
      },
      "execution_count": null,
      "outputs": [
        {
          "output_type": "stream",
          "name": "stdout",
          "text": [
            "['0918_squat_000020.mp4', '0918_squat_000017.mp4', '0918_squat_000018.mp4', '0918_squat_000058.mp4', '0918_squat_000016.mp4', '0918_squat_000021.mp4', '0918_squat_000022.mp4', '0918_squat_000019.mp4', '0922_squat_000017.mp4', '0918_squat_000059.mp4', '0922_squat_000018.mp4', '0918_squat_000064.mp4', '0918_squat_000060.mp4', '0918_squat_000061.mp4', '0918_squat_000065.mp4', '0918_squat_000063.mp4', '0922_squat_000016.mp4', '0918_squat_000062.mp4', '0922_squat_000080.mp4', '0922_squat_000021.mp4', '0922_squat_000076.mp4', '0922_squat_000023.mp4', '0922_squat_000118.mp4', '0922_squat_000119.mp4', '0922_squat_000115.mp4', '0922_squat_000019.mp4', '0922_squat_000079.mp4', '0922_squat_000075.mp4', '0922_squat_000116.mp4', '0922_squat_000073.mp4', '0922_squat_000077.mp4', '0922_squat_000022.mp4', '0922_squat_000078.mp4', '0922_squat_000074.mp4', '0922_squat_000117.mp4', '0922_squat_000020.mp4', '0922_squat_000176.mp4', '0922_squat_000177.mp4', '0922_squat_000174.mp4', '0922_squat_000173.mp4', '0922_squat_000178.mp4', '0922_squat_000122.mp4', '0922_squat_000172.mp4', '0922_squat_000120.mp4', '0922_squat_000175.mp4', '0922_squat_000121.mp4', '0926_squat_000030.mp4', '0926_squat_000031.mp4', '0926_squat_000026.mp4', '0926_squat_000029.mp4', '0926_squat_000028.mp4', '0922_squat_000179.mp4', '0926_squat_000032.mp4', '0926_squat_000033.mp4', '0926_squat_000027.mp4', '0926_squat_000133.mp4', '0926_squat_000130.mp4', '0926_squat_000128.mp4', '0926_squat_000129.mp4', '0926_squat_000131.mp4', '0926_squat_000132.mp4', '0926_squat_000134.mp4', '0928_squat_000019.mp4', '0928_squat_000117.mp4', '0928_squat_000018.mp4', '0928_squat_000118.mp4', '0928_squat_000114.mp4', '0928_squat_000021.mp4', '0928_squat_000116.mp4', '0926_squat_000135.mp4', '0928_squat_000024.mp4', '0928_squat_000020.mp4', '0928_squat_000115.mp4', '0928_squat_000017.mp4', '0928_squat_000022.mp4', '0928_squat_000023.mp4', '0928_squat_000119.mp4', '1003_squat_000150.mp4', '0928_squat_000120.mp4', '1003_squat_000149.mp4', '0928_squat_000121.mp4', '1003_squat_000148.mp4', '1015_squat_000035.mp4', '1015_squat_000032.mp4', '1003_squat_000153.mp4', '1003_squat_000151.mp4', '1015_squat_000036.mp4', '1015_squat_000034.mp4', '1015_squat_000033.mp4', '1003_squat_000152.mp4', '1003_squat_000154.mp4', '1003_squat_000155.mp4', '1015_squat_000136.mp4', '1015_squat_000137.mp4', '1015_squat_000135.mp4', '1015_squat_000132.mp4', '1015_squat_000134.mp4', '1015_squat_000138.mp4', '1015_squat_000037.mp4', '1015_squat_000039.mp4', '1015_squat_000133.mp4', '1015_squat_000038.mp4', '1015_squat_000234.mp4', '1015_squat_000237.mp4', '1015_squat_000235.mp4', '1018_squat_000127.mp4', '1015_squat_000232.mp4', '1015_squat_000236.mp4', '1015_squat_000239.mp4', '1015_squat_000238.mp4', '1015_squat_000139.mp4', '1018_squat_000126.mp4', '1015_squat_000233.mp4', '1018_squat_000129.mp4', '1018_squat_000226.mp4', '1018_squat_000131.mp4', '1018_squat_000133.mp4', '1018_squat_000128.mp4', '1018_squat_000132.mp4', '1018_squat_000130.mp4', '1018_squat_000227.mp4', '1018_squat_000228.mp4', '1018_squat_000229.mp4', '1018_squat_000233.mp4', '1018_squat_000230.mp4', '1022_squat_000125.mp4', '1022_squat_000028.mp4', '1022_squat_000124.mp4', '1018_squat_000231.mp4', '1022_squat_000030.mp4', '1022_squat_000024.mp4', '1022_squat_000027.mp4', '1022_squat_000031.mp4', '1022_squat_000026.mp4', '1022_squat_000029.mp4', '1018_squat_000232.mp4', '1022_squat_000025.mp4', '1022_squat_000227.mp4', '1022_squat_000128.mp4', '1022_squat_000131.mp4', '1022_squat_000126.mp4', '1022_squat_000224.mp4', '1025_squat_000025.mp4', '1022_squat_000130.mp4', '1022_squat_000228.mp4', '1022_squat_000129.mp4', '1025_squat_000026.mp4', '1022_squat_000127.mp4', '1022_squat_000225.mp4', '1022_squat_000229.mp4', '1025_squat_000027.mp4', '1022_squat_000230.mp4', '1022_squat_000226.mp4', '1022_squat_000231.mp4', '1025_squat_000029.mp4', '1025_squat_000131.mp4', '1025_squat_000130.mp4', '1025_squat_000028.mp4', '1025_squat_000126.mp4', '1025_squat_000125.mp4', '1025_squat_000032.mp4', '1025_squat_000031.mp4', '1025_squat_000127.mp4', '1025_squat_000128.mp4', '1025_squat_000129.mp4', '1025_squat_000030.mp4', '1025_squat_000227.mp4', '1025_squat_000225.mp4', '1025_squat_000226.mp4', '1025_squat_000230.mp4', '1025_squat_000232.mp4', '1025_squat_000229.mp4', '1025_squat_000228.mp4', '1025_squat_000231.mp4', '1025_squat_000132.mp4', '1029_squat_000024.mp4', '1029_squat_000127.mp4', '1029_squat_000028.mp4', '1029_squat_000030.mp4', '1029_squat_000025.mp4', '1029_squat_000126.mp4', '1029_squat_000125.mp4', '1029_squat_000026.mp4', '1029_squat_000027.mp4', '1029_squat_000124.mp4', '1029_squat_000029.mp4', '1029_squat_000031.mp4', '1029_squat_000128.mp4', '1031_squat_000027.mp4', '1031_squat_000031.mp4', '1031_squat_000125.mp4', '1031_squat_000026.mp4', '1031_squat_000126.mp4', '1029_squat_000130.mp4', '1031_squat_000124.mp4', '1029_squat_000131.mp4', '1031_squat_000029.mp4', '1031_squat_000030.mp4', '1031_squat_000127.mp4', '1031_squat_000028.mp4', '1031_squat_000024.mp4', '1029_squat_000129.mp4', '1031_squat_000025.mp4', '1103_squat_000027.mp4', '1031_squat_000131.mp4', '1103_squat_000025.mp4', '1103_squat_000029.mp4', '1103_squat_000031.mp4', '1031_squat_000130.mp4', '1103_squat_000026.mp4', '1031_squat_000129.mp4', '1103_squat_000030.mp4', '1103_squat_000024.mp4', '1103_squat_000028.mp4', '1031_squat_000128.mp4', '1106_squat_000055.mp4', '1103_squat_000131.mp4', '1103_squat_000126.mp4', '1106_squat_000148.mp4', '1103_squat_000124.mp4', '1103_squat_000129.mp4', '1106_squat_000149.mp4', '1103_squat_000127.mp4', '1106_squat_000052.mp4', '1103_squat_000125.mp4', '1106_squat_000053.mp4', '1106_squat_000050.mp4', '1103_squat_000130.mp4', '1106_squat_000051.mp4', '1106_squat_000150.mp4', '1106_squat_000054.mp4', '1103_squat_000128.mp4', '1106_squat_000049.mp4', '1106_squat_000048.mp4', '1106_squat_000155.mp4', '1106_squat_000154.mp4', '1106_squat_000152.mp4', '1108_squat_000037.mp4', '1108_squat_000033.mp4', '1106_squat_000151.mp4', '1108_squat_000034.mp4', '1106_squat_000153.mp4', '1108_squat_000032.mp4', '1108_squat_000035.mp4', '1108_squat_000036.mp4', '1108_squat_000132.mp4', '1108_squat_000139.mp4', '1113_squat_000029.mp4', '1113_squat_000032.mp4', '1113_squat_000030.mp4', '1113_squat_000031.mp4', '1108_squat_000038.mp4', '1108_squat_000135.mp4', '1108_squat_000137.mp4', '1108_squat_000134.mp4', '1113_squat_000028.mp4', '1113_squat_000026.mp4', '1108_squat_000138.mp4', '1113_squat_000027.mp4', '1108_squat_000136.mp4', '1108_squat_000133.mp4', '1108_squat_000039.mp4', '1113_squat_000129.mp4', 'bad_squat_squat_000043.mp4', '1113_squat_000132.mp4', '1113_squat_000126.mp4', 'bad_squat_squat_000045.mp4', '1113_squat_000131.mp4', '1113_squat_000128.mp4', '1113_squat_000133.mp4', 'bad_squat_squat_000044.mp4', '1113_squat_000127.mp4', '1113_squat_000033.mp4', '1113_squat_000130.mp4', 'bad_squat_squat_000048.mp4', 'bad_squat_squat_000046.mp4', 'bad_squat_squat_bar_000004.mp4', 'bad_squat_squat_bar_000007.mp4', 'bad_squat_squat_bar_000006.mp4', 'bad_squat_squat_bar_000009.mp4', 'bad_squat_squat_bar_000010.mp4', 'bad_squat_squat_000049.mp4', 'bad_squat_squat_bar_000002.mp4', 'bad_squat_squat_000047.mp4', 'bad_squat_squat_000050.mp4', 'bad_squat_squat_bar_000005.mp4', 'bad_squat_squat_bar_000008.mp4', 'bad_squat_squat_bar_000003.mp4']\n"
          ]
        }
      ]
    },
    {
      "cell_type": "markdown",
      "source": [
        "### Create and split data for train and test"
      ],
      "metadata": {
        "id": "rqKL9Ti5sK8K"
      }
    },
    {
      "cell_type": "code",
      "source": [
        "distribution = {'good': [311],\n",
        "           'bad_back_round': [288],\n",
        "           'bad_back_warp': [320],\n",
        "           'bad_inner_thigh': [235],\n",
        "           'bad_toe': [305],\n",
        "           'bad_shallow': [325],\n",
        "           'bad_head': [280]}\n",
        "\n",
        "df_dist = pd.DataFrame.from_dict(distribution)\n",
        "df_dist = df_dist.T\n",
        "df_dist['%'] = round(((df_dist[0]/2064)*100), 2)\n",
        "df_dist = df_dist.rename(columns={0:'Videos'})\n",
        "df_dist"
      ],
      "metadata": {
        "id": "rJ0w1oZzru2q",
        "colab": {
          "base_uri": "https://localhost:8080/",
          "height": 269
        },
        "outputId": "8ec70ad9-a2fc-4e22-8342-e95e9d9509f1"
      },
      "execution_count": 11,
      "outputs": [
        {
          "output_type": "execute_result",
          "data": {
            "text/plain": [
              "                 Videos      %\n",
              "good                311  15.07\n",
              "bad_back_round      288  13.95\n",
              "bad_back_warp       320  15.50\n",
              "bad_inner_thigh     235  11.39\n",
              "bad_toe             305  14.78\n",
              "bad_shallow         325  15.75\n",
              "bad_head            280  13.57"
            ],
            "text/html": [
              "\n",
              "  <div id=\"df-03c82d7d-3216-4121-b774-b25aab3e2d38\">\n",
              "    <div class=\"colab-df-container\">\n",
              "      <div>\n",
              "<style scoped>\n",
              "    .dataframe tbody tr th:only-of-type {\n",
              "        vertical-align: middle;\n",
              "    }\n",
              "\n",
              "    .dataframe tbody tr th {\n",
              "        vertical-align: top;\n",
              "    }\n",
              "\n",
              "    .dataframe thead th {\n",
              "        text-align: right;\n",
              "    }\n",
              "</style>\n",
              "<table border=\"1\" class=\"dataframe\">\n",
              "  <thead>\n",
              "    <tr style=\"text-align: right;\">\n",
              "      <th></th>\n",
              "      <th>Videos</th>\n",
              "      <th>%</th>\n",
              "    </tr>\n",
              "  </thead>\n",
              "  <tbody>\n",
              "    <tr>\n",
              "      <th>good</th>\n",
              "      <td>311</td>\n",
              "      <td>15.07</td>\n",
              "    </tr>\n",
              "    <tr>\n",
              "      <th>bad_back_round</th>\n",
              "      <td>288</td>\n",
              "      <td>13.95</td>\n",
              "    </tr>\n",
              "    <tr>\n",
              "      <th>bad_back_warp</th>\n",
              "      <td>320</td>\n",
              "      <td>15.50</td>\n",
              "    </tr>\n",
              "    <tr>\n",
              "      <th>bad_inner_thigh</th>\n",
              "      <td>235</td>\n",
              "      <td>11.39</td>\n",
              "    </tr>\n",
              "    <tr>\n",
              "      <th>bad_toe</th>\n",
              "      <td>305</td>\n",
              "      <td>14.78</td>\n",
              "    </tr>\n",
              "    <tr>\n",
              "      <th>bad_shallow</th>\n",
              "      <td>325</td>\n",
              "      <td>15.75</td>\n",
              "    </tr>\n",
              "    <tr>\n",
              "      <th>bad_head</th>\n",
              "      <td>280</td>\n",
              "      <td>13.57</td>\n",
              "    </tr>\n",
              "  </tbody>\n",
              "</table>\n",
              "</div>\n",
              "      <button class=\"colab-df-convert\" onclick=\"convertToInteractive('df-03c82d7d-3216-4121-b774-b25aab3e2d38')\"\n",
              "              title=\"Convert this dataframe to an interactive table.\"\n",
              "              style=\"display:none;\">\n",
              "        \n",
              "  <svg xmlns=\"http://www.w3.org/2000/svg\" height=\"24px\"viewBox=\"0 0 24 24\"\n",
              "       width=\"24px\">\n",
              "    <path d=\"M0 0h24v24H0V0z\" fill=\"none\"/>\n",
              "    <path d=\"M18.56 5.44l.94 2.06.94-2.06 2.06-.94-2.06-.94-.94-2.06-.94 2.06-2.06.94zm-11 1L8.5 8.5l.94-2.06 2.06-.94-2.06-.94L8.5 2.5l-.94 2.06-2.06.94zm10 10l.94 2.06.94-2.06 2.06-.94-2.06-.94-.94-2.06-.94 2.06-2.06.94z\"/><path d=\"M17.41 7.96l-1.37-1.37c-.4-.4-.92-.59-1.43-.59-.52 0-1.04.2-1.43.59L10.3 9.45l-7.72 7.72c-.78.78-.78 2.05 0 2.83L4 21.41c.39.39.9.59 1.41.59.51 0 1.02-.2 1.41-.59l7.78-7.78 2.81-2.81c.8-.78.8-2.07 0-2.86zM5.41 20L4 18.59l7.72-7.72 1.47 1.35L5.41 20z\"/>\n",
              "  </svg>\n",
              "      </button>\n",
              "      \n",
              "  <style>\n",
              "    .colab-df-container {\n",
              "      display:flex;\n",
              "      flex-wrap:wrap;\n",
              "      gap: 12px;\n",
              "    }\n",
              "\n",
              "    .colab-df-convert {\n",
              "      background-color: #E8F0FE;\n",
              "      border: none;\n",
              "      border-radius: 50%;\n",
              "      cursor: pointer;\n",
              "      display: none;\n",
              "      fill: #1967D2;\n",
              "      height: 32px;\n",
              "      padding: 0 0 0 0;\n",
              "      width: 32px;\n",
              "    }\n",
              "\n",
              "    .colab-df-convert:hover {\n",
              "      background-color: #E2EBFA;\n",
              "      box-shadow: 0px 1px 2px rgba(60, 64, 67, 0.3), 0px 1px 3px 1px rgba(60, 64, 67, 0.15);\n",
              "      fill: #174EA6;\n",
              "    }\n",
              "\n",
              "    [theme=dark] .colab-df-convert {\n",
              "      background-color: #3B4455;\n",
              "      fill: #D2E3FC;\n",
              "    }\n",
              "\n",
              "    [theme=dark] .colab-df-convert:hover {\n",
              "      background-color: #434B5C;\n",
              "      box-shadow: 0px 1px 3px 1px rgba(0, 0, 0, 0.15);\n",
              "      filter: drop-shadow(0px 1px 2px rgba(0, 0, 0, 0.3));\n",
              "      fill: #FFFFFF;\n",
              "    }\n",
              "  </style>\n",
              "\n",
              "      <script>\n",
              "        const buttonEl =\n",
              "          document.querySelector('#df-03c82d7d-3216-4121-b774-b25aab3e2d38 button.colab-df-convert');\n",
              "        buttonEl.style.display =\n",
              "          google.colab.kernel.accessAllowed ? 'block' : 'none';\n",
              "\n",
              "        async function convertToInteractive(key) {\n",
              "          const element = document.querySelector('#df-03c82d7d-3216-4121-b774-b25aab3e2d38');\n",
              "          const dataTable =\n",
              "            await google.colab.kernel.invokeFunction('convertToInteractive',\n",
              "                                                     [key], {});\n",
              "          if (!dataTable) return;\n",
              "\n",
              "          const docLinkHtml = 'Like what you see? Visit the ' +\n",
              "            '<a target=\"_blank\" href=https://colab.research.google.com/notebooks/data_table.ipynb>data table notebook</a>'\n",
              "            + ' to learn more about interactive tables.';\n",
              "          element.innerHTML = '';\n",
              "          dataTable['output_type'] = 'display_data';\n",
              "          await google.colab.output.renderOutput(dataTable, element);\n",
              "          const docLink = document.createElement('div');\n",
              "          docLink.innerHTML = docLinkHtml;\n",
              "          element.appendChild(docLink);\n",
              "        }\n",
              "      </script>\n",
              "    </div>\n",
              "  </div>\n",
              "  "
            ]
          },
          "metadata": {},
          "execution_count": 11
        }
      ]
    },
    {
      "cell_type": "code",
      "source": [
        "# create data\n",
        "X, Y = create_data(data_dir)\n",
        " \n",
        "# split data\n",
        "X_train, X_test, y_train, y_test = train_test_split(X, Y, test_size=0.20, shuffle=True, random_state=0)"
      ],
      "metadata": {
        "colab": {
          "base_uri": "https://localhost:8080/"
        },
        "id": "2VQOTKnseyQQ",
        "outputId": "19560158-7d91-47be-f6fa-93863a6c9138"
      },
      "execution_count": null,
      "outputs": [
        {
          "output_type": "stream",
          "name": "stdout",
          "text": [
            "bad_shallow\n",
            "bad_head\n",
            "bad_back_round\n",
            "good\n",
            "bad_toe\n",
            "bad_back_warp\n",
            "bad_inner_thigh\n"
          ]
        }
      ]
    },
    {
      "cell_type": "markdown",
      "source": [
        "### Initialize model"
      ],
      "metadata": {
        "id": "gOOVsH-kslq3"
      }
    },
    {
      "cell_type": "code",
      "source": [
        "# instantiating model\n",
        "model = Sequential()\n",
        "model.add(Conv3D(filters=64, kernel_size=(3, 3, 3), activation='relu',input_shape=(seq_len, img_height, img_width, 3)))\n",
        "model.add(MaxPooling3D(pool_size = (2, 2, 2)))\n",
        "model.add(BatchNormalization())\n",
        "model.add(Conv3D(filters = 128, kernel_size=(3, 3, 3), activation='relu'))\n",
        "model.add(MaxPooling3D(pool_size = (2, 2, 2)))\n",
        "model.add(BatchNormalization())\n",
        "model.add(Conv3D(filters = 256, kernel_size=(3, 3, 3), activation ='relu'))\n",
        "model.add(Conv3D(512, kernel_size=(1, 1, 1), activation='relu'))\n",
        "model.add(MaxPooling3D(pool_size=(1, 1, 1)))\n",
        "model.add(BatchNormalization())\n",
        "model.add(Dense(256, activation='relu'))\n",
        "model.add(Flatten())\n",
        "model.add(Dense(512, activation='relu'))\n",
        "model.add(Dense(len(classes), activation='softmax'))\n",
        "\n",
        "model.summary()\n",
        "\n",
        "opt = tf.keras.optimizers.SGD(learning_rate=0.001, momentum=0.5)\n",
        "\n",
        "model.compile(optimizer=opt, loss='categorical_crossentropy', metrics = ['accuracy'])"
      ],
      "metadata": {
        "colab": {
          "base_uri": "https://localhost:8080/"
        },
        "id": "zG3xiSlMOxqO",
        "outputId": "a47918f8-741e-4aad-e9d7-026d31ae2720"
      },
      "execution_count": null,
      "outputs": [
        {
          "output_type": "stream",
          "name": "stdout",
          "text": [
            "Model: \"sequential_17\"\n",
            "_________________________________________________________________\n",
            " Layer (type)                Output Shape              Param #   \n",
            "=================================================================\n",
            " conv3d_40 (Conv3D)          (None, 58, 62, 62, 64)    5248      \n",
            "                                                                 \n",
            " max_pooling3d_30 (MaxPoolin  (None, 29, 31, 31, 64)   0         \n",
            " g3D)                                                            \n",
            "                                                                 \n",
            " batch_normalization_30 (Bat  (None, 29, 31, 31, 64)   256       \n",
            " chNormalization)                                                \n",
            "                                                                 \n",
            " conv3d_41 (Conv3D)          (None, 27, 29, 29, 128)   221312    \n",
            "                                                                 \n",
            " max_pooling3d_31 (MaxPoolin  (None, 13, 14, 14, 128)  0         \n",
            " g3D)                                                            \n",
            "                                                                 \n",
            " batch_normalization_31 (Bat  (None, 13, 14, 14, 128)  512       \n",
            " chNormalization)                                                \n",
            "                                                                 \n",
            " conv3d_42 (Conv3D)          (None, 11, 12, 12, 256)   884992    \n",
            "                                                                 \n",
            " conv3d_43 (Conv3D)          (None, 11, 12, 12, 512)   131584    \n",
            "                                                                 \n",
            " max_pooling3d_32 (MaxPoolin  (None, 11, 12, 12, 512)  0         \n",
            " g3D)                                                            \n",
            "                                                                 \n",
            " batch_normalization_32 (Bat  (None, 11, 12, 12, 512)  2048      \n",
            " chNormalization)                                                \n",
            "                                                                 \n",
            " dense_34 (Dense)            (None, 11, 12, 12, 256)   131328    \n",
            "                                                                 \n",
            " flatten_16 (Flatten)        (None, 405504)            0         \n",
            "                                                                 \n",
            " dense_35 (Dense)            (None, 512)               207618560 \n",
            "                                                                 \n",
            " dense_36 (Dense)            (None, 7)                 3591      \n",
            "                                                                 \n",
            "=================================================================\n",
            "Total params: 208,999,431\n",
            "Trainable params: 208,998,023\n",
            "Non-trainable params: 1,408\n",
            "_________________________________________________________________\n"
          ]
        }
      ]
    },
    {
      "cell_type": "markdown",
      "source": [
        "### Train model"
      ],
      "metadata": {
        "id": "K-5JiqalsryN"
      }
    },
    {
      "cell_type": "code",
      "source": [
        "# early stopping if validation loss does not improve for 7 epochs\n",
        "earlystop = EarlyStopping(patience=7)\n",
        "callbacks = [earlystop]\n",
        " \n",
        "history = model.fit(x=X_train, y=y_train, epochs=100, batch_size=8 , shuffle=True, validation_split=0.2, callbacks=callbacks)"
      ],
      "metadata": {
        "colab": {
          "base_uri": "https://localhost:8080/"
        },
        "id": "jXUTM_k6RPWY",
        "outputId": "6a27bcc2-15ce-4f97-eee5-ccf1c51499e8"
      },
      "execution_count": null,
      "outputs": [
        {
          "output_type": "stream",
          "name": "stdout",
          "text": [
            "Epoch 1/100\n",
            "165/165 [==============================] - 44s 264ms/step - loss: 2.4080 - accuracy: 0.1621 - val_loss: 1.9343 - val_accuracy: 0.1611\n",
            "Epoch 2/100\n",
            "165/165 [==============================] - 44s 266ms/step - loss: 1.8405 - accuracy: 0.2443 - val_loss: 1.8306 - val_accuracy: 0.2614\n",
            "Epoch 3/100\n",
            "165/165 [==============================] - 44s 268ms/step - loss: 1.6249 - accuracy: 0.3607 - val_loss: 1.8259 - val_accuracy: 0.2614\n",
            "Epoch 4/100\n",
            "165/165 [==============================] - 44s 269ms/step - loss: 1.2278 - accuracy: 0.5479 - val_loss: 1.7090 - val_accuracy: 0.3799\n",
            "Epoch 5/100\n",
            "165/165 [==============================] - 45s 270ms/step - loss: 0.9016 - accuracy: 0.6697 - val_loss: 1.8573 - val_accuracy: 0.4043\n",
            "Epoch 6/100\n",
            "165/165 [==============================] - 45s 271ms/step - loss: 0.5439 - accuracy: 0.8311 - val_loss: 1.8397 - val_accuracy: 0.3891\n",
            "Epoch 7/100\n",
            "165/165 [==============================] - 45s 271ms/step - loss: 0.3310 - accuracy: 0.9072 - val_loss: 1.4753 - val_accuracy: 0.5350\n",
            "Epoch 8/100\n",
            "165/165 [==============================] - 45s 272ms/step - loss: 0.2117 - accuracy: 0.9391 - val_loss: 1.5224 - val_accuracy: 0.4681\n",
            "Epoch 9/100\n",
            "165/165 [==============================] - 45s 272ms/step - loss: 0.1125 - accuracy: 0.9810 - val_loss: 1.3666 - val_accuracy: 0.5106\n",
            "Epoch 10/100\n",
            "165/165 [==============================] - 45s 272ms/step - loss: 0.0534 - accuracy: 0.9954 - val_loss: 1.3940 - val_accuracy: 0.5380\n",
            "Epoch 11/100\n",
            "165/165 [==============================] - 45s 272ms/step - loss: 0.0331 - accuracy: 0.9992 - val_loss: 1.3334 - val_accuracy: 0.5623\n",
            "Epoch 12/100\n",
            "165/165 [==============================] - 45s 272ms/step - loss: 0.0211 - accuracy: 1.0000 - val_loss: 1.3714 - val_accuracy: 0.5410\n",
            "Epoch 13/100\n",
            "165/165 [==============================] - 45s 272ms/step - loss: 0.0176 - accuracy: 1.0000 - val_loss: 1.2961 - val_accuracy: 0.5866\n",
            "Epoch 14/100\n",
            "165/165 [==============================] - 45s 272ms/step - loss: 0.0125 - accuracy: 1.0000 - val_loss: 1.3095 - val_accuracy: 0.5805\n",
            "Epoch 15/100\n",
            "165/165 [==============================] - 45s 272ms/step - loss: 0.0099 - accuracy: 1.0000 - val_loss: 1.3577 - val_accuracy: 0.5714\n",
            "Epoch 16/100\n",
            "165/165 [==============================] - 45s 272ms/step - loss: 0.0083 - accuracy: 1.0000 - val_loss: 1.3299 - val_accuracy: 0.5866\n",
            "Epoch 17/100\n",
            "165/165 [==============================] - 45s 272ms/step - loss: 0.0073 - accuracy: 1.0000 - val_loss: 1.3337 - val_accuracy: 0.5988\n",
            "Epoch 18/100\n",
            "165/165 [==============================] - 45s 272ms/step - loss: 0.0061 - accuracy: 1.0000 - val_loss: 1.3363 - val_accuracy: 0.6079\n",
            "Epoch 19/100\n",
            "165/165 [==============================] - 45s 272ms/step - loss: 0.0055 - accuracy: 1.0000 - val_loss: 1.3538 - val_accuracy: 0.5897\n",
            "Epoch 20/100\n",
            "165/165 [==============================] - 45s 272ms/step - loss: 0.0050 - accuracy: 1.0000 - val_loss: 1.3564 - val_accuracy: 0.5866\n"
          ]
        }
      ]
    },
    {
      "cell_type": "markdown",
      "source": [
        "### Saving model"
      ],
      "metadata": {
        "id": "kuc4uXSGs0h-"
      }
    },
    {
      "cell_type": "code",
      "source": [
        "# creating directory\n",
        "!mkdir /content/drive/MyDrive/CNN_Model"
      ],
      "metadata": {
        "id": "m2PHcQCou7zU"
      },
      "execution_count": null,
      "outputs": []
    },
    {
      "cell_type": "code",
      "source": [
        "# saving model\n",
        "model.save('/content/drive/My Drive/CNN_Model/model_3')"
      ],
      "metadata": {
        "id": "5iwhZqWMvJXz"
      },
      "execution_count": null,
      "outputs": []
    },
    {
      "cell_type": "code",
      "source": [
        "# testing save model\n",
        "new_model = tf.keras.models.load_model('/content/drive/My Drive/CNN_Model/model_3')\n",
        "\n",
        "# Check its architecture\n",
        "new_model.summary()"
      ],
      "metadata": {
        "colab": {
          "base_uri": "https://localhost:8080/"
        },
        "id": "kexrYnnXwGnZ",
        "outputId": "350693ae-fbce-4642-a9c2-95f1fc4b4b98"
      },
      "execution_count": null,
      "outputs": [
        {
          "output_type": "stream",
          "name": "stdout",
          "text": [
            "Model: \"sequential_17\"\n",
            "_________________________________________________________________\n",
            " Layer (type)                Output Shape              Param #   \n",
            "=================================================================\n",
            " conv3d_40 (Conv3D)          (None, 58, 62, 62, 64)    5248      \n",
            "                                                                 \n",
            " max_pooling3d_30 (MaxPoolin  (None, 29, 31, 31, 64)   0         \n",
            " g3D)                                                            \n",
            "                                                                 \n",
            " batch_normalization_30 (Bat  (None, 29, 31, 31, 64)   256       \n",
            " chNormalization)                                                \n",
            "                                                                 \n",
            " conv3d_41 (Conv3D)          (None, 27, 29, 29, 128)   221312    \n",
            "                                                                 \n",
            " max_pooling3d_31 (MaxPoolin  (None, 13, 14, 14, 128)  0         \n",
            " g3D)                                                            \n",
            "                                                                 \n",
            " batch_normalization_31 (Bat  (None, 13, 14, 14, 128)  512       \n",
            " chNormalization)                                                \n",
            "                                                                 \n",
            " conv3d_42 (Conv3D)          (None, 11, 12, 12, 256)   884992    \n",
            "                                                                 \n",
            " conv3d_43 (Conv3D)          (None, 11, 12, 12, 512)   131584    \n",
            "                                                                 \n",
            " max_pooling3d_32 (MaxPoolin  (None, 11, 12, 12, 512)  0         \n",
            " g3D)                                                            \n",
            "                                                                 \n",
            " batch_normalization_32 (Bat  (None, 11, 12, 12, 512)  2048      \n",
            " chNormalization)                                                \n",
            "                                                                 \n",
            " dense_34 (Dense)            (None, 11, 12, 12, 256)   131328    \n",
            "                                                                 \n",
            " flatten_16 (Flatten)        (None, 405504)            0         \n",
            "                                                                 \n",
            " dense_35 (Dense)            (None, 512)               207618560 \n",
            "                                                                 \n",
            " dense_36 (Dense)            (None, 7)                 3591      \n",
            "                                                                 \n",
            "=================================================================\n",
            "Total params: 208,999,431\n",
            "Trainable params: 208,998,023\n",
            "Non-trainable params: 1,408\n",
            "_________________________________________________________________\n"
          ]
        }
      ]
    },
    {
      "cell_type": "code",
      "source": [
        "# Evaluate the restored model\n",
        "loss, acc = new_model.evaluate(X_test, y_test, verbose=2)\n",
        "print('Restored model, accuracy: {:5.2f}%'.format(100 * acc))\n",
        "\n",
        "print(new_model.predict(X_test).shape)"
      ],
      "metadata": {
        "colab": {
          "base_uri": "https://localhost:8080/"
        },
        "id": "QC6lXf8ZwX4G",
        "outputId": "6546f8e5-cc13-46df-ea7c-1f701751680e"
      },
      "execution_count": null,
      "outputs": [
        {
          "output_type": "stream",
          "name": "stdout",
          "text": [
            "13/13 - 4s - loss: 1.4452 - accuracy: 0.5645 - 4s/epoch - 273ms/step\n",
            "Restored model, accuracy: 56.45%\n",
            "(411, 7)\n"
          ]
        }
      ]
    },
    {
      "cell_type": "markdown",
      "source": [
        "### Test model and evaluate"
      ],
      "metadata": {
        "id": "fjBbefTOtH0_"
      }
    },
    {
      "cell_type": "code",
      "source": [
        "# generate predictions\n",
        "y_pred = model.predict(X_test)"
      ],
      "metadata": {
        "id": "o8sk7KRnrLuz"
      },
      "execution_count": null,
      "outputs": []
    },
    {
      "cell_type": "code",
      "source": [
        "# checking shape of predictions\n",
        "print(y_pred.shape)"
      ],
      "metadata": {
        "colab": {
          "base_uri": "https://localhost:8080/"
        },
        "id": "9L_qqxK2sBf5",
        "outputId": "724aa4c0-8a26-41f3-e508-86d5f9614a89"
      },
      "execution_count": null,
      "outputs": [
        {
          "output_type": "stream",
          "name": "stdout",
          "text": [
            "(411, 7)\n"
          ]
        }
      ]
    },
    {
      "cell_type": "code",
      "source": [
        "# checking shape of test data\n",
        "print(y_test.shape)"
      ],
      "metadata": {
        "colab": {
          "base_uri": "https://localhost:8080/"
        },
        "id": "arp4cGT_tH_4",
        "outputId": "50cf5501-fc92-4275-9db4-36e73f0ea999"
      },
      "execution_count": null,
      "outputs": [
        {
          "output_type": "stream",
          "name": "stdout",
          "text": [
            "(411, 7)\n"
          ]
        }
      ]
    },
    {
      "cell_type": "code",
      "source": [
        "# vectorizing data\n",
        "y_pred_vector = np.argmax(y_pred, axis=1)\n",
        "y_test_vector = np.argmax(y_test, axis=1)\n",
        "\n",
        "# classification report \n",
        "print(classification_report(y_test_vector, y_pred_vector, target_names=classes))"
      ],
      "metadata": {
        "colab": {
          "base_uri": "https://localhost:8080/"
        },
        "id": "kt9bfks8q-ec",
        "outputId": "67048fdd-20b6-40a8-e2c5-b907848d3005"
      },
      "execution_count": null,
      "outputs": [
        {
          "output_type": "stream",
          "name": "stdout",
          "text": [
            "                 precision    recall  f1-score   support\n",
            "\n",
            " bad_back_round       0.75      0.67      0.71        49\n",
            "  bad_back_warp       0.49      0.58      0.53        69\n",
            "       bad_head       0.46      0.65      0.54        57\n",
            "bad_inner_thigh       0.62      0.34      0.44        44\n",
            "    bad_shallow       0.81      0.75      0.78        72\n",
            "        bad_toe       0.51      0.52      0.51        58\n",
            "           good       0.43      0.37      0.40        62\n",
            "\n",
            "       accuracy                           0.56       411\n",
            "      macro avg       0.58      0.55      0.56       411\n",
            "   weighted avg       0.58      0.56      0.56       411\n",
            "\n"
          ]
        }
      ]
    },
    {
      "cell_type": "code",
      "source": [
        "# ROC/AUC Score\n",
        "print(roc_auc_score(y_test, y_pred))"
      ],
      "metadata": {
        "colab": {
          "base_uri": "https://localhost:8080/"
        },
        "id": "UCNPszr0DsT_",
        "outputId": "2e2a507f-5fd4-4fb9-a3d7-5d6cdb985e69"
      },
      "execution_count": null,
      "outputs": [
        {
          "output_type": "stream",
          "name": "stdout",
          "text": [
            "0.8631771572463853\n"
          ]
        }
      ]
    },
    {
      "cell_type": "code",
      "source": [
        "# confusion matrix\n",
        "confusion_matrix(y_test_vector, y_pred_vector)"
      ],
      "metadata": {
        "colab": {
          "base_uri": "https://localhost:8080/"
        },
        "id": "YEljdEZHd5n8",
        "outputId": "f023b3e6-ccf4-4501-9971-d393545856f9"
      },
      "execution_count": null,
      "outputs": [
        {
          "output_type": "execute_result",
          "data": {
            "text/plain": [
              "array([[33, 10,  3,  1,  1,  0,  1],\n",
              "       [ 7, 40,  9,  3,  1,  1,  8],\n",
              "       [ 1,  7, 37,  0,  1,  3,  8],\n",
              "       [ 2,  8,  9, 15,  1,  5,  4],\n",
              "       [ 0,  2,  5,  1, 54,  7,  3],\n",
              "       [ 0,  3, 10,  1,  7, 30,  7],\n",
              "       [ 1, 12,  8,  3,  2, 13, 23]])"
            ]
          },
          "metadata": {},
          "execution_count": 71
        }
      ]
    },
    {
      "cell_type": "code",
      "source": [
        "# One-vs-Rest Confusion matrices\n",
        "multilabel_confusion_matrix(y_test_vector, y_pred_vector)"
      ],
      "metadata": {
        "colab": {
          "base_uri": "https://localhost:8080/"
        },
        "id": "pvJpwgcZMnBa",
        "outputId": "4f4421a0-9467-4b69-ec34-611962c63921"
      },
      "execution_count": null,
      "outputs": [
        {
          "output_type": "execute_result",
          "data": {
            "text/plain": [
              "array([[[351,  11],\n",
              "        [ 16,  33]],\n",
              "\n",
              "       [[300,  42],\n",
              "        [ 29,  40]],\n",
              "\n",
              "       [[310,  44],\n",
              "        [ 20,  37]],\n",
              "\n",
              "       [[358,   9],\n",
              "        [ 29,  15]],\n",
              "\n",
              "       [[326,  13],\n",
              "        [ 18,  54]],\n",
              "\n",
              "       [[324,  29],\n",
              "        [ 28,  30]],\n",
              "\n",
              "       [[318,  31],\n",
              "        [ 39,  23]]])"
            ]
          },
          "metadata": {},
          "execution_count": 68
        }
      ]
    },
    {
      "cell_type": "code",
      "source": [
        "# list all data in history\n",
        "print(history.history.keys())\n",
        "\n",
        "# summarize history for accuracy\n",
        "plt.plot(history.history['accuracy'])\n",
        "plt.plot(history.history['val_accuracy'])\n",
        "plt.title('model accuracy')\n",
        "plt.ylabel('accuracy')\n",
        "plt.xlabel('epoch')\n",
        "plt.legend(['train', 'test'], loc='upper left')\n",
        "plt.show()\n",
        "\n",
        "# summarize history for loss\n",
        "plt.plot(history.history['loss'])\n",
        "plt.plot(history.history['val_loss'])\n",
        "plt.title('model loss')\n",
        "plt.ylabel('loss')\n",
        "plt.xlabel('epoch')\n",
        "plt.legend(['train', 'test'], loc='upper left')\n",
        "plt.show()"
      ],
      "metadata": {
        "colab": {
          "base_uri": "https://localhost:8080/",
          "height": 590
        },
        "id": "BH5cgDhVggIu",
        "outputId": "3ca000e1-1af2-434c-c01a-3b17a3ed8c26"
      },
      "execution_count": null,
      "outputs": [
        {
          "output_type": "stream",
          "name": "stdout",
          "text": [
            "dict_keys(['loss', 'accuracy', 'val_loss', 'val_accuracy'])\n"
          ]
        },
        {
          "output_type": "display_data",
          "data": {
            "text/plain": [
              "<Figure size 432x288 with 1 Axes>"
            ],
            "image/png": "[encoded data removed]"
          },
          "metadata": {
            "needs_background": "light"
          }
        },
        {
          "output_type": "display_data",
          "data": {
            "text/plain": [
              "<Figure size 432x288 with 1 Axes>"
            ],
            "image/png": "[encoded data removed]"
          },
          "metadata": {
            "needs_background": "light"
          }
        }
      ]
    },
    {
      "cell_type": "code",
      "source": [
        "# Cohen Kappa Score\n",
        "print(cohen_kappa_score(y_test_vector, y_pred_vector))"
      ],
      "metadata": {
        "colab": {
          "base_uri": "https://localhost:8080/"
        },
        "id": "7xFpEzlO5H1t",
        "outputId": "34f669ec-71ae-4fcf-edcf-0bbd9261d1ac"
      },
      "execution_count": null,
      "outputs": [
        {
          "output_type": "stream",
          "name": "stdout",
          "text": [
            "0.4359340409244201\n"
          ]
        }
      ]
    },
    {
      "cell_type": "code",
      "source": [
        "# viewing single prediction\n",
        "print(y_pred[0])"
      ],
      "metadata": {
        "colab": {
          "base_uri": "https://localhost:8080/"
        },
        "id": "CrbUx-xt9xdR",
        "outputId": "3ed5bd2e-b83f-49bd-dd45-9b51c944a5e9"
      },
      "execution_count": null,
      "outputs": [
        {
          "output_type": "stream",
          "name": "stdout",
          "text": [
            "[0.24561726 0.0843804  0.21297304 0.01345094 0.00258409 0.4224025\n",
            " 0.01859171]\n"
          ]
        }
      ]
    },
    {
      "cell_type": "markdown",
      "source": [
        "### Creating function to get labels"
      ],
      "metadata": {
        "id": "6L4w8NLCvDie"
      }
    },
    {
      "cell_type": "code",
      "source": [
        "# generate labels for predictions\n",
        "def get_classes(test_values, predictions, class_names):\n",
        "    \"\"\"\n",
        "    Generate actual and predicted labels from model results\n",
        "\n",
        "    Parameters\n",
        "    ----------\n",
        "    test_values : array\n",
        "        array of actual test values\n",
        "    predictions : array\n",
        "        array of predicted values\n",
        "    class_names : list of label names\n",
        "\n",
        "    Returns\n",
        "    -------\n",
        "    actual\n",
        "        a list of actual labels for each index\n",
        "    predicted\n",
        "        a list of predicted labels for each index\n",
        "    \"\"\"\n",
        "    actual = []\n",
        "    predicted = []\n",
        "    for i in range(len(test_values)):\n",
        "      v = class_names[np.argmax(test_values[i])]\n",
        "      actual.append(v)\n",
        "    for i in range(len(predictions)):\n",
        "      p = class_names[np.argmax(predictions[i])]\n",
        "      predicted.append(p)\n",
        "    return actual, predicted"
      ],
      "metadata": {
        "id": "uW0_pU3klAOY"
      },
      "execution_count": null,
      "outputs": []
    },
    {
      "cell_type": "code",
      "source": [
        "# creating dataframe of actual and predicted labels\n",
        "actual, predicted = get_classes(y_test, y_pred, classes)\n",
        "\n",
        "zipped = list(zip(actual, predicted))\n",
        "\n",
        "df = pd.DataFrame(zipped, columns=['Actual','Predicted']) \n",
        "df"
      ],
      "metadata": {
        "colab": {
          "base_uri": "https://localhost:8080/",
          "height": 655
        },
        "id": "x-ShkHmplps9",
        "outputId": "da4ca1a5-9164-44e2-9059-36f4e90a5dea"
      },
      "execution_count": null,
      "outputs": [
        {
          "output_type": "execute_result",
          "data": {
            "text/plain": [
              "              Actual       Predicted\n",
              "0               good         bad_toe\n",
              "1    bad_inner_thigh   bad_back_warp\n",
              "2     bad_back_round  bad_back_round\n",
              "3               good            good\n",
              "4      bad_back_warp   bad_back_warp\n",
              "..               ...             ...\n",
              "406    bad_back_warp  bad_back_round\n",
              "407             good            good\n",
              "408   bad_back_round  bad_back_round\n",
              "409             good        bad_head\n",
              "410             good   bad_back_warp\n",
              "\n",
              "[411 rows x 2 columns]"
            ],
            "text/html": [
              "\n",
              "  <div id=\"df-9a333fe3-e46a-472b-9781-5466b29dfcd5\">\n",
              "    <div class=\"colab-df-container\">\n",
              "      <div>\n",
              "<style scoped>\n",
              "    .dataframe tbody tr th:only-of-type {\n",
              "        vertical-align: middle;\n",
              "    }\n",
              "\n",
              "    .dataframe tbody tr th {\n",
              "        vertical-align: top;\n",
              "    }\n",
              "\n",
              "    .dataframe thead th {\n",
              "        text-align: right;\n",
              "    }\n",
              "</style>\n",
              "<table border=\"1\" class=\"dataframe\">\n",
              "  <thead>\n",
              "    <tr style=\"text-align: right;\">\n",
              "      <th></th>\n",
              "      <th>Actual</th>\n",
              "      <th>Predicted</th>\n",
              "    </tr>\n",
              "  </thead>\n",
              "  <tbody>\n",
              "    <tr>\n",
              "      <th>0</th>\n",
              "      <td>good</td>\n",
              "      <td>bad_toe</td>\n",
              "    </tr>\n",
              "    <tr>\n",
              "      <th>1</th>\n",
              "      <td>bad_inner_thigh</td>\n",
              "      <td>bad_back_warp</td>\n",
              "    </tr>\n",
              "    <tr>\n",
              "      <th>2</th>\n",
              "      <td>bad_back_round</td>\n",
              "      <td>bad_back_round</td>\n",
              "    </tr>\n",
              "    <tr>\n",
              "      <th>3</th>\n",
              "      <td>good</td>\n",
              "      <td>good</td>\n",
              "    </tr>\n",
              "    <tr>\n",
              "      <th>4</th>\n",
              "      <td>bad_back_warp</td>\n",
              "      <td>bad_back_warp</td>\n",
              "    </tr>\n",
              "    <tr>\n",
              "      <th>...</th>\n",
              "      <td>...</td>\n",
              "      <td>...</td>\n",
              "    </tr>\n",
              "    <tr>\n",
              "      <th>406</th>\n",
              "      <td>bad_back_warp</td>\n",
              "      <td>bad_back_round</td>\n",
              "    </tr>\n",
              "    <tr>\n",
              "      <th>407</th>\n",
              "      <td>good</td>\n",
              "      <td>good</td>\n",
              "    </tr>\n",
              "    <tr>\n",
              "      <th>408</th>\n",
              "      <td>bad_back_round</td>\n",
              "      <td>bad_back_round</td>\n",
              "    </tr>\n",
              "    <tr>\n",
              "      <th>409</th>\n",
              "      <td>good</td>\n",
              "      <td>bad_head</td>\n",
              "    </tr>\n",
              "    <tr>\n",
              "      <th>410</th>\n",
              "      <td>good</td>\n",
              "      <td>bad_back_warp</td>\n",
              "    </tr>\n",
              "  </tbody>\n",
              "</table>\n",
              "<p>411 rows × 2 columns</p>\n",
              "</div>\n",
              "      <button class=\"colab-df-convert\" onclick=\"convertToInteractive('df-9a333fe3-e46a-472b-9781-5466b29dfcd5')\"\n",
              "              title=\"Convert this dataframe to an interactive table.\"\n",
              "              style=\"display:none;\">\n",
              "        \n",
              "  <svg xmlns=\"http://www.w3.org/2000/svg\" height=\"24px\"viewBox=\"0 0 24 24\"\n",
              "       width=\"24px\">\n",
              "    <path d=\"M0 0h24v24H0V0z\" fill=\"none\"/>\n",
              "    <path d=\"M18.56 5.44l.94 2.06.94-2.06 2.06-.94-2.06-.94-.94-2.06-.94 2.06-2.06.94zm-11 1L8.5 8.5l.94-2.06 2.06-.94-2.06-.94L8.5 2.5l-.94 2.06-2.06.94zm10 10l.94 2.06.94-2.06 2.06-.94-2.06-.94-.94-2.06-.94 2.06-2.06.94z\"/><path d=\"M17.41 7.96l-1.37-1.37c-.4-.4-.92-.59-1.43-.59-.52 0-1.04.2-1.43.59L10.3 9.45l-7.72 7.72c-.78.78-.78 2.05 0 2.83L4 21.41c.39.39.9.59 1.41.59.51 0 1.02-.2 1.41-.59l7.78-7.78 2.81-2.81c.8-.78.8-2.07 0-2.86zM5.41 20L4 18.59l7.72-7.72 1.47 1.35L5.41 20z\"/>\n",
              "  </svg>\n",
              "      </button>\n",
              "      \n",
              "  <style>\n",
              "    .colab-df-container {\n",
              "      display:flex;\n",
              "      flex-wrap:wrap;\n",
              "      gap: 12px;\n",
              "    }\n",
              "\n",
              "    .colab-df-convert {\n",
              "      background-color: #E8F0FE;\n",
              "      border: none;\n",
              "      border-radius: 50%;\n",
              "      cursor: pointer;\n",
              "      display: none;\n",
              "      fill: #1967D2;\n",
              "      height: 32px;\n",
              "      padding: 0 0 0 0;\n",
              "      width: 32px;\n",
              "    }\n",
              "\n",
              "    .colab-df-convert:hover {\n",
              "      background-color: #E2EBFA;\n",
              "      box-shadow: 0px 1px 2px rgba(60, 64, 67, 0.3), 0px 1px 3px 1px rgba(60, 64, 67, 0.15);\n",
              "      fill: #174EA6;\n",
              "    }\n",
              "\n",
              "    [theme=dark] .colab-df-convert {\n",
              "      background-color: #3B4455;\n",
              "      fill: #D2E3FC;\n",
              "    }\n",
              "\n",
              "    [theme=dark] .colab-df-convert:hover {\n",
              "      background-color: #434B5C;\n",
              "      box-shadow: 0px 1px 3px 1px rgba(0, 0, 0, 0.15);\n",
              "      filter: drop-shadow(0px 1px 2px rgba(0, 0, 0, 0.3));\n",
              "      fill: #FFFFFF;\n",
              "    }\n",
              "  </style>\n",
              "\n",
              "      <script>\n",
              "        const buttonEl =\n",
              "          document.querySelector('#df-9a333fe3-e46a-472b-9781-5466b29dfcd5 button.colab-df-convert');\n",
              "        buttonEl.style.display =\n",
              "          google.colab.kernel.accessAllowed ? 'block' : 'none';\n",
              "\n",
              "        async function convertToInteractive(key) {\n",
              "          const element = document.querySelector('#df-9a333fe3-e46a-472b-9781-5466b29dfcd5');\n",
              "          const dataTable =\n",
              "            await google.colab.kernel.invokeFunction('convertToInteractive',\n",
              "                                                     [key], {});\n",
              "          if (!dataTable) return;\n",
              "\n",
              "          const docLinkHtml = 'Like what you see? Visit the ' +\n",
              "            '<a target=\"_blank\" href=https://colab.research.google.com/notebooks/data_table.ipynb>data table notebook</a>'\n",
              "            + ' to learn more about interactive tables.';\n",
              "          element.innerHTML = '';\n",
              "          dataTable['output_type'] = 'display_data';\n",
              "          await google.colab.output.renderOutput(dataTable, element);\n",
              "          const docLink = document.createElement('div');\n",
              "          docLink.innerHTML = docLinkHtml;\n",
              "          element.appendChild(docLink);\n",
              "        }\n",
              "      </script>\n",
              "    </div>\n",
              "  </div>\n",
              "  "
            ]
          },
          "metadata": {},
          "execution_count": 107
        }
      ]
    },
    {
      "cell_type": "code",
      "source": [
        "df.info()"
      ],
      "metadata": {
        "colab": {
          "base_uri": "https://localhost:8080/"
        },
        "id": "elcE5yzWqjyE",
        "outputId": "51e1a0c8-bf04-4019-874b-64655ddb321d"
      },
      "execution_count": null,
      "outputs": [
        {
          "output_type": "stream",
          "name": "stdout",
          "text": [
            "<class 'pandas.core.frame.DataFrame'>\n",
            "RangeIndex: 411 entries, 0 to 410\n",
            "Data columns (total 2 columns):\n",
            " #   Column     Non-Null Count  Dtype \n",
            "---  ------     --------------  ----- \n",
            " 0   Actual     411 non-null    object\n",
            " 1   Predicted  411 non-null    object\n",
            "dtypes: object(2)\n",
            "memory usage: 6.5+ KB\n"
          ]
        }
      ]
    },
    {
      "cell_type": "code",
      "source": [
        "df[df['Actual'] == df['Predicted']]"
      ],
      "metadata": {
        "colab": {
          "base_uri": "https://localhost:8080/",
          "height": 424
        },
        "id": "dW0FA-NWpi6j",
        "outputId": "3df3ccef-c06f-4549-e550-64f33c868312"
      },
      "execution_count": null,
      "outputs": [
        {
          "output_type": "execute_result",
          "data": {
            "text/plain": [
              "              Actual        Predicted\n",
              "2     bad_back_round   bad_back_round\n",
              "3               good             good\n",
              "4      bad_back_warp    bad_back_warp\n",
              "5            bad_toe          bad_toe\n",
              "9     bad_back_round   bad_back_round\n",
              "..               ...              ...\n",
              "397  bad_inner_thigh  bad_inner_thigh\n",
              "398          bad_toe          bad_toe\n",
              "405      bad_shallow      bad_shallow\n",
              "407             good             good\n",
              "408   bad_back_round   bad_back_round\n",
              "\n",
              "[232 rows x 2 columns]"
            ],
            "text/html": [
              "\n",
              "  <div id=\"df-f4c291ed-944a-48a9-91c7-4b9264f0fcad\">\n",
              "    <div class=\"colab-df-container\">\n",
              "      <div>\n",
              "<style scoped>\n",
              "    .dataframe tbody tr th:only-of-type {\n",
              "        vertical-align: middle;\n",
              "    }\n",
              "\n",
              "    .dataframe tbody tr th {\n",
              "        vertical-align: top;\n",
              "    }\n",
              "\n",
              "    .dataframe thead th {\n",
              "        text-align: right;\n",
              "    }\n",
              "</style>\n",
              "<table border=\"1\" class=\"dataframe\">\n",
              "  <thead>\n",
              "    <tr style=\"text-align: right;\">\n",
              "      <th></th>\n",
              "      <th>Actual</th>\n",
              "      <th>Predicted</th>\n",
              "    </tr>\n",
              "  </thead>\n",
              "  <tbody>\n",
              "    <tr>\n",
              "      <th>2</th>\n",
              "      <td>bad_back_round</td>\n",
              "      <td>bad_back_round</td>\n",
              "    </tr>\n",
              "    <tr>\n",
              "      <th>3</th>\n",
              "      <td>good</td>\n",
              "      <td>good</td>\n",
              "    </tr>\n",
              "    <tr>\n",
              "      <th>4</th>\n",
              "      <td>bad_back_warp</td>\n",
              "      <td>bad_back_warp</td>\n",
              "    </tr>\n",
              "    <tr>\n",
              "      <th>5</th>\n",
              "      <td>bad_toe</td>\n",
              "      <td>bad_toe</td>\n",
              "    </tr>\n",
              "    <tr>\n",
              "      <th>9</th>\n",
              "      <td>bad_back_round</td>\n",
              "      <td>bad_back_round</td>\n",
              "    </tr>\n",
              "    <tr>\n",
              "      <th>...</th>\n",
              "      <td>...</td>\n",
              "      <td>...</td>\n",
              "    </tr>\n",
              "    <tr>\n",
              "      <th>397</th>\n",
              "      <td>bad_inner_thigh</td>\n",
              "      <td>bad_inner_thigh</td>\n",
              "    </tr>\n",
              "    <tr>\n",
              "      <th>398</th>\n",
              "      <td>bad_toe</td>\n",
              "      <td>bad_toe</td>\n",
              "    </tr>\n",
              "    <tr>\n",
              "      <th>405</th>\n",
              "      <td>bad_shallow</td>\n",
              "      <td>bad_shallow</td>\n",
              "    </tr>\n",
              "    <tr>\n",
              "      <th>407</th>\n",
              "      <td>good</td>\n",
              "      <td>good</td>\n",
              "    </tr>\n",
              "    <tr>\n",
              "      <th>408</th>\n",
              "      <td>bad_back_round</td>\n",
              "      <td>bad_back_round</td>\n",
              "    </tr>\n",
              "  </tbody>\n",
              "</table>\n",
              "<p>232 rows × 2 columns</p>\n",
              "</div>\n",
              "      <button class=\"colab-df-convert\" onclick=\"convertToInteractive('df-f4c291ed-944a-48a9-91c7-4b9264f0fcad')\"\n",
              "              title=\"Convert this dataframe to an interactive table.\"\n",
              "              style=\"display:none;\">\n",
              "        \n",
              "  <svg xmlns=\"http://www.w3.org/2000/svg\" height=\"24px\"viewBox=\"0 0 24 24\"\n",
              "       width=\"24px\">\n",
              "    <path d=\"M0 0h24v24H0V0z\" fill=\"none\"/>\n",
              "    <path d=\"M18.56 5.44l.94 2.06.94-2.06 2.06-.94-2.06-.94-.94-2.06-.94 2.06-2.06.94zm-11 1L8.5 8.5l.94-2.06 2.06-.94-2.06-.94L8.5 2.5l-.94 2.06-2.06.94zm10 10l.94 2.06.94-2.06 2.06-.94-2.06-.94-.94-2.06-.94 2.06-2.06.94z\"/><path d=\"M17.41 7.96l-1.37-1.37c-.4-.4-.92-.59-1.43-.59-.52 0-1.04.2-1.43.59L10.3 9.45l-7.72 7.72c-.78.78-.78 2.05 0 2.83L4 21.41c.39.39.9.59 1.41.59.51 0 1.02-.2 1.41-.59l7.78-7.78 2.81-2.81c.8-.78.8-2.07 0-2.86zM5.41 20L4 18.59l7.72-7.72 1.47 1.35L5.41 20z\"/>\n",
              "  </svg>\n",
              "      </button>\n",
              "      \n",
              "  <style>\n",
              "    .colab-df-container {\n",
              "      display:flex;\n",
              "      flex-wrap:wrap;\n",
              "      gap: 12px;\n",
              "    }\n",
              "\n",
              "    .colab-df-convert {\n",
              "      background-color: #E8F0FE;\n",
              "      border: none;\n",
              "      border-radius: 50%;\n",
              "      cursor: pointer;\n",
              "      display: none;\n",
              "      fill: #1967D2;\n",
              "      height: 32px;\n",
              "      padding: 0 0 0 0;\n",
              "      width: 32px;\n",
              "    }\n",
              "\n",
              "    .colab-df-convert:hover {\n",
              "      background-color: #E2EBFA;\n",
              "      box-shadow: 0px 1px 2px rgba(60, 64, 67, 0.3), 0px 1px 3px 1px rgba(60, 64, 67, 0.15);\n",
              "      fill: #174EA6;\n",
              "    }\n",
              "\n",
              "    [theme=dark] .colab-df-convert {\n",
              "      background-color: #3B4455;\n",
              "      fill: #D2E3FC;\n",
              "    }\n",
              "\n",
              "    [theme=dark] .colab-df-convert:hover {\n",
              "      background-color: #434B5C;\n",
              "      box-shadow: 0px 1px 3px 1px rgba(0, 0, 0, 0.15);\n",
              "      filter: drop-shadow(0px 1px 2px rgba(0, 0, 0, 0.3));\n",
              "      fill: #FFFFFF;\n",
              "    }\n",
              "  </style>\n",
              "\n",
              "      <script>\n",
              "        const buttonEl =\n",
              "          document.querySelector('#df-f4c291ed-944a-48a9-91c7-4b9264f0fcad button.colab-df-convert');\n",
              "        buttonEl.style.display =\n",
              "          google.colab.kernel.accessAllowed ? 'block' : 'none';\n",
              "\n",
              "        async function convertToInteractive(key) {\n",
              "          const element = document.querySelector('#df-f4c291ed-944a-48a9-91c7-4b9264f0fcad');\n",
              "          const dataTable =\n",
              "            await google.colab.kernel.invokeFunction('convertToInteractive',\n",
              "                                                     [key], {});\n",
              "          if (!dataTable) return;\n",
              "\n",
              "          const docLinkHtml = 'Like what you see? Visit the ' +\n",
              "            '<a target=\"_blank\" href=https://colab.research.google.com/notebooks/data_table.ipynb>data table notebook</a>'\n",
              "            + ' to learn more about interactive tables.';\n",
              "          element.innerHTML = '';\n",
              "          dataTable['output_type'] = 'display_data';\n",
              "          await google.colab.output.renderOutput(dataTable, element);\n",
              "          const docLink = document.createElement('div');\n",
              "          docLink.innerHTML = docLinkHtml;\n",
              "          element.appendChild(docLink);\n",
              "        }\n",
              "      </script>\n",
              "    </div>\n",
              "  </div>\n",
              "  "
            ]
          },
          "metadata": {},
          "execution_count": 108
        }
      ]
    },
    {
      "cell_type": "markdown",
      "source": [
        "### Generating Random Rate Baseline"
      ],
      "metadata": {
        "id": "bHqyP33vwiXt"
      }
    },
    {
      "cell_type": "code",
      "source": [
        "counts = df['Actual'].value_counts().to_list()"
      ],
      "metadata": {
        "id": "WFFaIb7ZrXKI"
      },
      "execution_count": null,
      "outputs": []
    },
    {
      "cell_type": "code",
      "source": [
        "total = 411\n",
        "random_proba = [(x / total)**2 for x in counts]\n",
        "baseline = round((np.sum(weighted_proba)*100), 2)\n",
        "print(f'Baseline probability using Random Rate: {baseline}%')"
      ],
      "metadata": {
        "colab": {
          "base_uri": "https://localhost:8080/"
        },
        "id": "78M5qgmGsprc",
        "outputId": "12acc1dc-90e9-41a6-e39b-68c4d13f1470"
      },
      "execution_count": null,
      "outputs": [
        {
          "output_type": "stream",
          "name": "stdout",
          "text": [
            "Baseline probability using Random Rate: 14.65%\n"
          ]
        }
      ]
    }
  ]
}